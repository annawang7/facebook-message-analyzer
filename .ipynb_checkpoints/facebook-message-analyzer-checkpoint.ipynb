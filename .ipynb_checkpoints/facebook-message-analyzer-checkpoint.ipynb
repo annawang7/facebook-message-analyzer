{
 "cells": [
  {
   "cell_type": "markdown",
   "metadata": {},
   "source": [
    "# Facebook Messages Parser and Analyzer"
   ]
  },
  {
   "cell_type": "markdown",
   "metadata": {},
   "source": [
    "<b> Current Features for each Chat: </b>\n",
    "\n",
    "<ul> \n",
    "<li> Create bar charts that contain the following information for each person\n",
    "<ul> \n",
    "    <li> Average response time in minutes </li> \n",
    "    <li> Number of conversations initiated </li> \n",
    "    <li> Character count on average</li>\n",
    "</ul>\n",
    "</ul>"
   ]
  },
  {
   "cell_type": "code",
   "execution_count": 6,
   "metadata": {},
   "outputs": [],
   "source": [
    "import pylab as pl\n",
    "import numpy as np\n",
    "import time\n",
    "import os\n",
    "from datetime import datetime, date, timedelta\n",
    "from collections import Counter\n",
    "\n",
    "%matplotlib inline\n",
    "\n",
    "from lxml import etree\n",
    "parser = etree.XMLParser(recover=True)\n",
    "\n",
    "# number of conversations/html files you'd like to analyze\n",
    "NUMBER_TO_ANALYZE = 1\n",
    "\n",
    "# location of the html files\n",
    "DIRECTORY = 'messages/'"
   ]
  },
  {
   "cell_type": "markdown",
   "metadata": {},
   "source": [
    "## Reading in Data "
   ]
  },
  {
   "cell_type": "code",
   "execution_count": 7,
   "metadata": {
    "collapsed": true
   },
   "outputs": [],
   "source": [
    "# Helper function to filter out tags of a certain class\n",
    "def filter_class(root, tag, class_):\n",
    "    results = [] \n",
    "    for div in root.findall(tag):\n",
    "        if 'class' in div.attrib and div.attrib['class'] == class_:\n",
    "            results.append(div)\n",
    "    if len(results) == 1: \n",
    "        return results[0]\n",
    "    else: \n",
    "        return results\n",
    "\n",
    "# translates a FB message time into a dateTime object\n",
    "def getTime(string_time):\n",
    "    # print string_time\n",
    "    return datetime.fromtimestamp(time.mktime(time.strptime(string_time[:-3], \"%A, %B %d, %Y at %I:%M%p \")))\n",
    "\n",
    "# returns the difference in mins between two string times \n",
    "def minutes_difference(time1, time2):\n",
    "    return (getTime(time1) - getTime(time2)).seconds / 60.0"
   ]
  },
  {
   "cell_type": "code",
   "execution_count": 8,
   "metadata": {
    "collapsed": true
   },
   "outputs": [],
   "source": [
    "chats = []\n",
    "\n",
    "for i in range(NUMBER_TO_ANALYZE):\n",
    "    tree = etree.parse(DIRECTORY + str(i) + '.html',parser=parser)\n",
    "    root = tree.getroot()\n",
    "    body = root.find('body')\n",
    "    divs = body.findall('div')\n",
    "    results = []\n",
    "    for div in divs:\n",
    "        if 'class' in div.attrib and div.attrib['class'] == 'thread':\n",
    "            chats.append(div)"
   ]
  },
  {
   "cell_type": "markdown",
   "metadata": {},
   "source": [
    "## Extracting Data"
   ]
  },
  {
   "cell_type": "code",
   "execution_count": 9,
   "metadata": {
    "collapsed": true
   },
   "outputs": [],
   "source": [
    "# counter to enumerate all chats\n",
    "index = 0\n",
    "all_names = []\n",
    "\n",
    "# main function\n",
    "def getChatInfo(content, threshold, up_limit = 5 * 365, low_limit = 0):\n",
    "    global index\n",
    "   \n",
    "    previous_user = ''\n",
    "    cur_user = ''\n",
    "    names =  []\n",
    "    \n",
    "    times = {}\n",
    "    previous_time = None \n",
    "    first = True \n",
    "    starts = Counter()\n",
    "    char_counts = {}\n",
    "    \n",
    "    skip_message = False\n",
    "\n",
    "    # iterate over elements within contents (they flip between message headers and message contents)\n",
    "    for message in content:\n",
    "        # if the element is a message header (which contains name of person and time)\n",
    "        if message.tag == 'div': \n",
    "\n",
    "            user = message.find('div').find('span').text\n",
    "            cur_user = user\n",
    "            message_time = filter_class(message.find('div'), 'span', 'meta').text\n",
    "            days_since_message = (datetime.now() - getTime(message_time)).days\n",
    "            \n",
    "            if user not in names:\n",
    "                names.append(user)\n",
    "            \n",
    "            # don't look at messages that are super old (or in the future...)\n",
    "            if days_since_message > up_limit or days_since_message < low_limit: \n",
    "                skip_message = True\n",
    "                continue\n",
    "            \n",
    "            # need this to initialize stuff\n",
    "            if first:\n",
    "                first = False\n",
    "                starts[user] += 1\n",
    "                previous_time = message_time \n",
    "                previous_user = user\n",
    "                continue\n",
    "            # someone responded!\n",
    "            elif previous_user != user:         \n",
    "                diff = minutes_difference(previous_time, message_time)\n",
    "                previous_time = message_time\n",
    "                # probably continuing the conversation\n",
    "                if diff < threshold:\n",
    "                    if user in times: \n",
    "                        times[user].append(diff)\n",
    "                    else: \n",
    "                        times[user] = [diff]\n",
    "                # we'll assume someone initiated a new conversation here otherwise (emphasis on assume)\n",
    "                else:\n",
    "                    starts[user] += 1\n",
    "                previous_user = user\n",
    "        # if the element is the message content, calculate character counts\n",
    "        elif not skip_message and message.tag == 'p' and cur_user != None:\n",
    "            if message.text == None:\n",
    "                continue\n",
    "            \n",
    "            msg_len = len(message.text)\n",
    "            if cur_user in char_counts:\n",
    "                char_counts[cur_user].append(msg_len)\n",
    "            else:\n",
    "                char_counts[cur_user] = [msg_len]\n",
    "            \n",
    "        skip_message = False\n",
    "    \n",
    "    try:\n",
    "        if len(names) == 2:\n",
    "            print (\"%3s\" % str(index)) + ' - ' + str(len(content)/2) + ' messages - ' + ', '.join(names)\n",
    "    except:\n",
    "        pass\n",
    "    \n",
    "    index += 1\n",
    "    all_names.append(names)\n",
    "    \n",
    "    return times, starts, char_counts\n",
    "\n",
    "# calculates the total character count and average response time \n",
    "def modify_dicts(t, s, c):  \n",
    "    for item in t:\n",
    "        t[item] = np.mean(np.array(t[item]))\n",
    "    for item in c:\n",
    "        c[item] = np.mean(np.array(c[item]))\n",
    "    return t,s,c"
   ]
  },
  {
   "cell_type": "code",
   "execution_count": 10,
   "metadata": {
    "collapsed": true
   },
   "outputs": [],
   "source": [
    "# wraps together getChatInfo and modify_dicts\n",
    "\n",
    "# change the 180 below to modify the upper bound on a message response time for initiating conversation\n",
    "def compile_stats(chat_num, up_limit = 5*365, low_limit = 0):\n",
    "    t, s, c = getChatInfo(chats[chat_num], 180, up_limit = up_limit, low_limit = low_limit)\n",
    "    return modify_dicts(t,s,c)"
   ]
  },
  {
   "cell_type": "markdown",
   "metadata": {},
   "source": [
    "### Here is your Chat Number Legend:"
   ]
  },
  {
   "cell_type": "code",
   "execution_count": 11,
   "metadata": {
    "scrolled": true
   },
   "outputs": [
    {
     "name": "stdout",
     "output_type": "stream",
     "text": [
      "Use this to find the chat number: \n",
      "  0 - 2 messages - Nicole Chippy, Jeffrey Ding He\n"
     ]
    }
   ],
   "source": [
    "t_global = []\n",
    "s_global = []\n",
    "c_global = []\n",
    "\n",
    "print \"Use this to find the chat number: \"\n",
    "\n",
    "for i in range(len(chats)):\n",
    "    t,s,c = compile_stats(i)\n",
    "    t_global.append(t)\n",
    "    s_global.append(s)\n",
    "    c_global.append(c)"
   ]
  },
  {
   "cell_type": "markdown",
   "metadata": {},
   "source": [
    "## Feature 1: Making Plots"
   ]
  },
  {
   "cell_type": "code",
   "execution_count": 89,
   "metadata": {
    "collapsed": true
   },
   "outputs": [],
   "source": [
    "# Makes 3 plots (1) average response time, (2) initiated conversations, (3) character count\n",
    "def plot(chat_number):\n",
    "    t_data = t_global[chat_number]\n",
    "    X = np.arange(len(t_data))\n",
    "    pl.bar(X, np.array(t_data.values()), align='center', width=0.5, color = 'r')\n",
    "    pl.xticks(X, t_data.keys(), rotation = 90)\n",
    "    pl.title('Average Response Time in Minutes')\n",
    "    pl.show()\n",
    "\n",
    "    s_data = s_global[chat_number]\n",
    "    X = np.arange(len(s_data))\n",
    "    pl.bar(X, np.array(s_data.values()), align='center', width=0.5, color = 'r')\n",
    "    pl.xticks(X, s_data.keys(), rotation = 90)\n",
    "    pl.title('Times Initiated Conversation')\n",
    "    pl.show()\n",
    "    \n",
    "    c_data = c_global[chat_number]\n",
    "    X = np.arange(len(c_data))\n",
    "    pl.bar(X, np.array(c_data.values()), align='center', width=0.5, color = 'r')\n",
    "    pl.xticks(X, c_data.keys(), rotation = 90)\n",
    "    pl.title('Average Message Character Count')\n",
    "    pl.show()"
   ]
  },
  {
   "cell_type": "markdown",
   "metadata": {},
   "source": [
    "### Call the function plot(chat_number) here:"
   ]
  },
  {
   "cell_type": "code",
   "execution_count": 91,
   "metadata": {
    "scrolled": false
   },
   "outputs": [
    {
     "data": {
      "image/png": "[encoded data removed]",
      "text/plain": [
       "<matplotlib.figure.Figure at 0x10f01d4d0>"
      ]
     },
     "metadata": {},
     "output_type": "display_data"
    },
    {
     "data": {
      "image/png": "[encoded data removed]",
      "text/plain": [
       "<matplotlib.figure.Figure at 0x10f6aca90>"
      ]
     },
     "metadata": {},
     "output_type": "display_data"
    },
    {
     "data": {
      "image/png": "[encoded data removed]",
      "text/plain": [
       "<matplotlib.figure.Figure at 0x10f802150>"
      ]
     },
     "metadata": {},
     "output_type": "display_data"
    }
   ],
   "source": [
    "plot(538)"
   ]
  },
  {
   "cell_type": "code",
   "execution_count": null,
   "metadata": {
    "collapsed": true
   },
   "outputs": [],
   "source": []
  }
 ],
 "metadata": {
  "anaconda-cloud": {},
  "kernelspec": {
   "display_name": "Python 2",
   "language": "python",
   "name": "python2"
  },
  "language_info": {
   "codemirror_mode": {
    "name": "ipython",
    "version": 2
   },
   "file_extension": ".py",
   "mimetype": "text/x-python",
   "name": "python",
   "nbconvert_exporter": "python",
   "pygments_lexer": "ipython2",
   "version": "2.7.13"
  }
 },
 "nbformat": 4,
 "nbformat_minor": 1
}
