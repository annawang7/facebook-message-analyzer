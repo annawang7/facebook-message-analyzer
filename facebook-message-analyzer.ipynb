{
 "cells": [
  {
   "cell_type": "markdown",
   "metadata": {},
   "source": [
    "# Facebook Message Analyzer"
   ]
  },
  {
   "cell_type": "markdown",
   "metadata": {},
   "source": [
    "\n",
    "\n",
    "<b> Current Features For a Given Chat: </b>\n",
    "<ul> \n",
    "    <li> Number of Messages Sent </li> \n",
    "    <li> Messages Sent Over Time </li> \n",
    "    <li> Average Word Count </li>\n",
    "</ul>\n",
    "\n",
    "Written by Jeffrey He in 2018"
   ]
  },
  {
   "cell_type": "code",
   "execution_count": 2,
   "metadata": {
    "collapsed": true
   },
   "outputs": [],
   "source": [
    "import csv\n",
    "import os\n",
    "import json\n",
    "import numpy as np\n",
    "import pylab as pl\n",
    "import datetime\n",
    "\n",
    "CURRENT_DIRECTORY = os.getcwd()\n",
    "NUMBER_TO_ANALYZE = 5000\n",
    "MESSAGE_THRESHOLD = 1000"
   ]
  },
  {
   "cell_type": "code",
   "execution_count": 10,
   "metadata": {
    "collapsed": true
   },
   "outputs": [],
   "source": [
    "def get_json_data(chat):\n",
    "    json_location = CURRENT_DIRECTORY + \"/messages/\" + chat + \"/message.json\"\n",
    "    with open(json_location) as json_file:\n",
    "        json_data = json.load(json_file)\n",
    "        return json_data"
   ]
  },
  {
   "cell_type": "code",
   "execution_count": 11,
   "metadata": {
    "collapsed": true
   },
   "outputs": [],
   "source": [
    "chats = os.listdir(CURRENT_DIRECTORY + \"/messages\")[:NUMBER_TO_ANALYZE]\n",
    "sorted_chats = []\n",
    "final_data_messages = {}\n",
    "final_data_times = {}\n",
    "final_data_words = {}\n",
    "invalid_message_count = 0"
   ]
  },
  {
   "cell_type": "code",
   "execution_count": 12,
   "metadata": {},
   "outputs": [
    {
     "name": "stdout",
     "output_type": "stream",
     "text": [
      "Analyzing 2565 chats...\n",
      "Finished processing chats...\n"
     ]
    }
   ],
   "source": [
    "print('Analyzing ' + str(min(NUMBER_TO_ANALYZE, len(chats))) + ' chats...')\n",
    "\n",
    "for chat in chats:\n",
    "    if chat != \"stickers_used\":\n",
    "        json_data = get_json_data(chat)\n",
    "        messages = json_data[\"messages\"]\n",
    "        if len(messages) >= MESSAGE_THRESHOLD:\n",
    "            sorted_chats.append((len(messages), chat, messages))\n",
    "\n",
    "sorted_chats.sort(reverse=True)\n",
    "\n",
    "print('Finished processing chats...')"
   ]
  },
  {
   "cell_type": "code",
   "execution_count": 14,
   "metadata": {},
   "outputs": [
    {
     "name": "stdout",
     "output_type": "stream",
     "text": [
      "0 - 74285 messages - NatashaChong_3df35973da\n",
      "1 - 64865 messages - LaurenChung_42684362e1\n",
      "2 - 58078 messages - ChristineJou_ca5afa3864\n",
      "3 - 52998 messages - CharlotteChui_1f6a11adbf\n",
      "4 - 40742 messages - ChangwookShim_0a81be035a\n",
      "5 - 40115 messages - SEAMC_f6bb6f0ca8\n",
      "6 - 35930 messages - FacebookUser_8dd47febec\n",
      "7 - 30178 messages - SaritaDamaraju_dc83dc2487\n",
      "8 - 25757 messages - YashvardhanMehraBardoloi_0cd6900a6b\n",
      "9 - 25559 messages - AnantMajumdar_b1c8afe352\n",
      "10 - 22486 messages - NatashaChyi_c4ea8c481b\n",
      "11 - 21536 messages - MeganDiehl_7704aa3f4f\n",
      "12 - 20685 messages - AndrewKao_acee5707cf\n",
      "13 - 20295 messages - RyanFu_ad76b002ef\n",
      "14 - 19054 messages - JessicaHuang_04a1ce67ae\n",
      "15 - 14838 messages - IvyTse_cb16cd4c77\n",
      "16 - 13767 messages - HKISSenateExCo20152016_d3e49db519\n",
      "17 - 13492 messages - JasonLeung_1797c82265\n",
      "18 - 10324 messages - KaiTrepka_680510f579\n",
      "19 - 10142 messages - AmyTan_d2b0a6219c\n",
      "20 - 9916 messages - PaulNebres_25c5bb37e0\n",
      "21 - 9557 messages - MadisonPassamonte_76d0a95688\n",
      "22 - 8443 messages - JunsungAnantandEric_1ae9393978\n",
      "23 - 8182 messages - Mather420_0ee3104858\n",
      "24 - 7928 messages - SamanthaIp_865612600f\n",
      "25 - 7817 messages - KarmenLau_c5ec892e30\n",
      "26 - 7676 messages - CharltonLeung_bc32573903\n",
      "27 - 7148 messages - AngelaFan_dfaaf2dec8\n",
      "28 - 6691 messages - WillDuanmu_68e8ec3a1b\n",
      "29 - 6190 messages - AmiraSong_d80cc0bcb2\n",
      "30 - 6124 messages - JunsungPark_3a69e28086\n",
      "31 - 5891 messages - AnishaDok_46ced3f42e\n",
      "32 - 5803 messages - TomXie_1e178861ed\n",
      "33 - 5758 messages - GaryChen_66df38d0ea\n",
      "34 - 5705 messages - KirkLam_fdc96ce8ad\n",
      "35 - 5689 messages - Junto20152016_72a11177a1\n",
      "36 - 5597 messages - NicoleKim_9217076f9f\n",
      "37 - 5564 messages - MisbahSurani_7d7bba337e\n",
      "38 - 5471 messages - MUN_98f5558e9c\n",
      "39 - 5444 messages - Senate_7bbaf4d77d\n",
      "40 - 5383 messages - KathyHe_e348d3f33e\n",
      "41 - 5232 messages - RaymondWang_17e218f1ee\n",
      "42 - 5165 messages - MUN1516_2faa342611\n",
      "43 - 5140 messages - AnliZhang_be1041a4c6\n",
      "44 - 4663 messages - JenniferBan_93e6f80e00\n",
      "45 - 4571 messages - SOYAdmin_0cc34532c3\n",
      "46 - 4569 messages - StephanieChang_4e067692ba\n",
      "47 - 4558 messages - ClassOfficers_bb1584fbe7\n",
      "48 - 4465 messages - quartet_bac29e8b73\n",
      "49 - 4292 messages - AliceLew_b67202295e\n",
      "50 - 4035 messages - RachelChiu_a28e37af79\n",
      "51 - 3707 messages - PatrickHanaj_495345650c\n",
      "52 - 3670 messages - EmilyChen_d91aca9ea4\n",
      "53 - 3624 messages - CharmaineChan_1f07e631ea\n",
      "54 - 3605 messages - AmarBhardwaj_fa9020eb9f\n",
      "55 - 3561 messages - AudreyOsborn_e2a5efda79\n",
      "56 - 3429 messages - letsSETadate_ef5299c969\n",
      "57 - 3391 messages - NicholasFoo_df722420f8\n",
      "58 - 3337 messages - MeiChung_a07f033a94\n",
      "59 - 3275 messages - ElaineCheng_2ab80bb16b\n",
      "60 - 3157 messages - RichaWadaskar_0af1d04ff0\n",
      "61 - 3104 messages - CarolineScown_b6febfd1ae\n",
      "62 - 3041 messages - BrentHensley_393f1cf55e\n",
      "63 - 3029 messages - TeresaHui_e24b6b5fd0\n",
      "64 - 2956 messages - Weallsawtheemailandnowwerehappy_c7bc3dc8a2\n",
      "65 - 2888 messages - awesomechemgroup_a24bc5214a\n",
      "66 - 2825 messages - AlexisRoss_b979034fad\n",
      "67 - 2819 messages - mentalhealthawarenesslogistics_f4a82638c8\n",
      "68 - 2819 messages - HeidiLai_323bdd232c\n",
      "69 - 2816 messages - HiuHiuSau_c83c6e4631\n",
      "70 - 2814 messages - icollaboratedwithcs51_5bf1e7d3b3\n",
      "71 - 2755 messages - SeeWanPark_d5992003bd\n",
      "72 - 2696 messages - DeborahFan_a0177e0ea4\n",
      "73 - 2618 messages - JonathanChung_23ab8516ef\n",
      "74 - 2618 messages - CatherineTu_1c7b59a03e\n",
      "75 - 2596 messages - GeorgetteTso_f36ed8574b\n",
      "76 - 2576 messages - SerenaNanji_f4560779e1\n",
      "77 - 2562 messages - DanielHurworth_fb789a413f\n",
      "78 - 2505 messages - GraceHong_2aed188614\n",
      "79 - 2485 messages - JonathanMa_c37f8c4b03\n",
      "80 - 2420 messages - BigBallers_2bbadc1176\n",
      "81 - 2410 messages - kl15forever_31b4ffdbe6\n",
      "82 - 2330 messages - VarsityVolleyball2015_80e1a6ffb9\n",
      "83 - 2311 messages - NancyDiehl_fbcea8c577\n",
      "84 - 2268 messages - JunsungAnantandNick_db33da09c4\n",
      "85 - 2229 messages - YaminiJena_87abc8a598\n",
      "86 - 2214 messages - DavidHam_61e27dddad\n",
      "87 - 2179 messages - GraceZhang_b528c23e7b\n",
      "88 - 2110 messages - SusanXu_0a76b47375\n",
      "89 - 2100 messages - NHSJuniorPrepLeaders_54465cbd65\n",
      "90 - 2078 messages - CharlotteandLauren_8c967326bf\n",
      "91 - 2073 messages - emannaseer_998f9d4d45\n",
      "92 - 2045 messages - CanadayG41_c71a5c7f04\n",
      "93 - 2026 messages - HannahOh_7c6d0fee8a\n",
      "94 - 2023 messages - JamesChung_7fd3869dc4\n",
      "95 - 2016 messages - SiaAgarwal_81260ff6ed\n",
      "96 - 1967 messages - screwsuffermoreyear_088a7d6cfc\n",
      "97 - 1940 messages - MelvinMelMelCheung_f71e28a1f8\n",
      "98 - 1935 messages - ElisabethSlighton_a28a3c39f5\n",
      "99 - 1926 messages - VictorYang_bdfe6b8ea1\n",
      "100 - 1924 messages - HCSBoard2018_2ce4d91a87\n",
      "101 - 1905 messages - QuadOverTractor_7b1e0193b6\n",
      "102 - 1883 messages - LindaDu_9eee48affc\n",
      "103 - 1881 messages - ArjunSachar_3151b506e8\n",
      "104 - 1866 messages - JoshuaLevy_e5f089da06\n",
      "105 - 1845 messages - ToraNorthman_1f6abab8f2\n",
      "106 - 1810 messages - NeelMehta_3ae8e96f80\n",
      "107 - 1803 messages - AmandaLiang_26b9ae84f1\n",
      "108 - 1781 messages - KellyLuo_762bbe1928\n",
      "109 - 1736 messages - TheodoreTigerLiu_20b3e171b1\n",
      "110 - 1720 messages - ZenithChan_6bd615275e\n",
      "111 - 1719 messages - DavidKimFungLuo_8e101671e6\n",
      "112 - 1695 messages - jocelynhung_023b20d1c8\n",
      "113 - 1693 messages - StephanieTang_91df1c47cf\n",
      "114 - 1689 messages - SOSLeaders1516_baa855489c\n",
      "115 - 1684 messages - ChristopherWellins_fc002789df\n",
      "116 - 1680 messages - CalZau_b957d89e33\n",
      "117 - 1625 messages - SenateExCo20152016_13733342af\n",
      "118 - 1624 messages - EriKato_b65a84483d\n",
      "119 - 1583 messages - Answered_7396f70573\n",
      "120 - 1571 messages - AndreaHerman_53d4bed001\n",
      "121 - 1563 messages - SoguSohn_3e6722612a\n",
      "122 - 1557 messages - DouglasYang_986bcb043a\n",
      "123 - 1543 messages - KristoferSiy_7b5b90bbfa\n",
      "124 - 1538 messages - AnthonyLaw_de6494f47b\n",
      "125 - 1521 messages - NicoleChippy_16cdfdcd47\n",
      "126 - 1512 messages - KarenShen_c5b8a63510\n",
      "127 - 1484 messages - newkidsontheblock_31982677dd\n",
      "128 - 1477 messages - VickyXu_d28d610c89\n",
      "129 - 1461 messages - MiyonaKatayama_f5961555a2\n",
      "130 - 1456 messages - TerrificTokyoTripTTT_4f7427d739\n",
      "131 - 1444 messages - GeorgetteKoo_c48be5199f\n",
      "132 - 1440 messages - junsunganantandnick_6c62c68e73\n",
      "133 - 1432 messages - AlexShaw_7f93ec8e55\n",
      "134 - 1402 messages - BenHuang_2161fea5f0\n",
      "135 - 1389 messages - NickyYang_eb9234b81a\n",
      "136 - 1367 messages - katherineko_f327736a0b\n",
      "137 - 1355 messages - AnnieKang_b81e85f82a\n",
      "138 - 1354 messages - 6peoplechat_ed916ce331\n",
      "139 - 1338 messages - ArneshBatlaw_5fd2982c96\n",
      "140 - 1333 messages - HyattHouseRedmond_e7e97c1194\n",
      "141 - 1324 messages - victorlun_47d2ee664e\n",
      "142 - 1322 messages - saranshkothari_ef9ce6c5fa\n",
      "143 - 1305 messages - RyanPlunkett_808fe7a5c6\n",
      "144 - 1268 messages - junsunganantandnick_f22ee6dbd1\n",
      "145 - 1243 messages - JoanneWong_e3b628e009\n",
      "146 - 1225 messages - SammyXu_28a2887510\n",
      "147 - 1219 messages - MykaUmali_575e2bc7b6\n",
      "148 - 1208 messages - DanielLee_0833d5cb5c\n",
      "149 - 1171 messages - Overcooked_819d5a01ad\n",
      "150 - 1154 messages - YEAHMAN_d3c636b694\n",
      "151 - 1149 messages - hkmun14_fdde96d076\n",
      "152 - 1130 messages - ChrisandHelena_501c18a790\n",
      "153 - 1123 messages - BrianWu_00db924bb9\n",
      "154 - 1088 messages - CarlyBillington_7a3c7a817b\n",
      "155 - 1062 messages - SarahTisdall_a57569383f\n",
      "156 - 1058 messages - ForrestHolcombe_773274dba1\n",
      "157 - 1046 messages - ClaudiaTung_c658cb4254\n",
      "158 - 1038 messages - Quartet21_605082d5c9\n",
      "159 - 1036 messages - PeerEditingHum1Lit_4ded21ecce\n",
      "160 - 1026 messages - CS182FinalProject_047431f56d\n",
      "161 - 1021 messages - KristiRichter_06f02c14b5\n",
      "162 - 1010 messages - ElenaHyphen_1ba2f90930\n",
      "Found 156 invalid messages...\n",
      "Found 163 chats with 1000 messages or more\n"
     ]
    }
   ],
   "source": [
    "for i, (messages, chat, messages) in enumerate(sorted_chats):\n",
    "    number_messages = {}\n",
    "    person_to_times = {}\n",
    "    number_words = {}\n",
    "\n",
    "    print(str(i) + \" - \" + str(len(messages)) + \" messages - \" + str(chat))\n",
    "\n",
    "    for message in messages:\n",
    "        try:\n",
    "            name = message[\"sender_name\"]\n",
    "            time = message[\"timestamp_ms\"]\n",
    "            message_content = message[\"content\"]\n",
    "\n",
    "            number_messages[name] = number_messages.get(name, 0)\n",
    "            number_messages[name] += 1\n",
    "\n",
    "            person_to_times[name] = person_to_times.get(name, [])\n",
    "            person_to_times[name].append(datetime.datetime.fromtimestamp(time/1000.0))\n",
    "\n",
    "            number_words[name] = number_words.get(name, [])\n",
    "            number_words[name].append(len(message_content.split()))\n",
    "        except KeyError:\n",
    "            # happens for special cases like users who deactivated, unfriended, blocked\n",
    "            invalid_message_count += 1\n",
    "\n",
    "    final_data_messages[i] = number_messages\n",
    "    final_data_times[i] = person_to_times\n",
    "    final_data_words[i] = number_words\n",
    "\n",
    "print('Found ' + str(invalid_message_count) + ' invalid messages...')\n",
    "print('Found ' + str(len(sorted_chats)) + ' chats with ' + str(MESSAGE_THRESHOLD) + ' messages or more')"
   ]
  },
  {
   "cell_type": "code",
   "execution_count": 25,
   "metadata": {
    "collapsed": true
   },
   "outputs": [],
   "source": [
    "def plot_num_messages(chat_number):\n",
    "    plotted_data = final_data_messages[chat_number]\n",
    "    X = np.arange(len(plotted_data))\n",
    "    pl.bar(X, list(plotted_data.values()), align='center', width=0.5, color = 'r', bottom = 0.3)\n",
    "    pl.xticks(X, plotted_data.keys(), rotation = 90)\n",
    "    pl.title('Number of Messages Sent')\n",
    "    pl.tight_layout()\n",
    "    pl.show()\n",
    "    \n",
    "def plot_histogram_time(chat_number):\n",
    "    person_to_times = final_data_times[chat_number]\n",
    "    pl.xlabel('Time')\n",
    "    pl.ylabel('Number of Messages')\n",
    "    pl.title('# of Messages Over Time')\n",
    "    colors = ['b', 'r', 'c', 'm', 'y', 'k', 'w', 'g']\n",
    "    for i , person in enumerate(person_to_times):\n",
    "        plotted_data = person_to_times[person]\n",
    "        pl.hist(plotted_data, 100, alpha=0.3, label=person, facecolor=colors[i % len(colors)])\n",
    "    pl.tight_layout()\n",
    "    pl.legend()\n",
    "    pl.xticks(rotation=90)\n",
    "    pl.show()\n",
    "\n",
    "def plot_histogram_words(chat_number):\n",
    "    temp = {}\n",
    "    for person in final_data_words[chat_number]:\n",
    "        temp[person] = np.average(final_data_words[chat_number][person])\n",
    "    plotted_data = temp\n",
    "    X = np.arange(len(plotted_data))\n",
    "    pl.bar(X, list(plotted_data.values()), align='center', width=0.5, color = 'r', bottom = 0.3)\n",
    "    pl.xticks(X, plotted_data.keys(), rotation = 90)\n",
    "    pl.title('Average Word Count')\n",
    "    pl.tight_layout()\n",
    "    pl.show()\n",
    "    \n",
    "def plot(chat_number):\n",
    "    plot_num_messages(chat_number)\n",
    "    plot_histogram_time(chat_number)\n",
    "    plot_histogram_words(chat_number)"
   ]
  },
  {
   "cell_type": "code",
   "execution_count": 26,
   "metadata": {},
   "outputs": [
    {
     "data": {
      "image/png": "[encoded data removed]",
      "text/plain": [
       "<matplotlib.figure.Figure at 0x127d09a50>"
      ]
     },
     "metadata": {},
     "output_type": "display_data"
    },
    {
     "data": {
      "image/png": "[encoded data removed]",
      "text/plain": [
       "<matplotlib.figure.Figure at 0x11a409210>"
      ]
     },
     "metadata": {},
     "output_type": "display_data"
    },
    {
     "data": {
      "image/png": "[encoded data removed]",
      "text/plain": [
       "<matplotlib.figure.Figure at 0x119e0b1d0>"
      ]
     },
     "metadata": {},
     "output_type": "display_data"
    }
   ],
   "source": [
    "plot(126)"
   ]
  },
  {
   "cell_type": "code",
   "execution_count": null,
   "metadata": {
    "collapsed": true
   },
   "outputs": [],
   "source": []
  }
 ],
 "metadata": {
  "kernelspec": {
   "display_name": "Python 2",
   "language": "python",
   "name": "python2"
  },
  "language_info": {
   "codemirror_mode": {
    "name": "ipython",
    "version": 2
   },
   "file_extension": ".py",
   "mimetype": "text/x-python",
   "name": "python",
   "nbconvert_exporter": "python",
   "pygments_lexer": "ipython2",
   "version": "2.7.13"
  }
 },
 "nbformat": 4,
 "nbformat_minor": 2
}
