{
 "cells": [
  {
   "cell_type": "markdown",
   "metadata": {},
   "source": [
    "# Facebook Messages Parser and Analyzer"
   ]
  },
  {
   "cell_type": "markdown",
   "metadata": {},
   "source": [
    "<b> Current Features for each Chat: </b>\n",
    "\n",
    "<ul> \n",
    "<li> Create bar charts that contain the following information for each person\n",
    "<ul> \n",
    "    <li> Average response time in minutes </li> \n",
    "    <li> Number of conversations initiated </li> \n",
    "    <li> Character count on average</li>\n",
    "</ul>\n",
    "</ul>"
   ]
  },
  {
   "cell_type": "code",
   "execution_count": 77,
   "metadata": {
    "collapsed": true
   },
   "outputs": [],
   "source": [
    "import pylab as pl\n",
    "import numpy as np\n",
    "import time\n",
    "import os\n",
    "from datetime import datetime, date, timedelta\n",
    "from collections import Counter\n",
    "\n",
    "%matplotlib inline\n",
    "\n",
    "from lxml import etree\n",
    "parser = etree.XMLParser(recover=True)\n",
    "\n",
    "# number of conversations/html files you'd like to analyze\n",
    "NUMBER_TO_ANALYZE = 100\n",
    "\n",
    "# location of the html files\n",
    "DIRECTORY = 'messages/'"
   ]
  },
  {
   "cell_type": "markdown",
   "metadata": {},
   "source": [
    "## Reading in Data "
   ]
  },
  {
   "cell_type": "code",
   "execution_count": 78,
   "metadata": {
    "collapsed": true
   },
   "outputs": [],
   "source": [
    "# Helper function to filter out tags of a certain class\n",
    "def filter_class(root, tag, class_):\n",
    "    results = [] \n",
    "    for div in root.findall(tag):\n",
    "        if 'class' in div.attrib and div.attrib['class'] == class_:\n",
    "            results.append(div)\n",
    "    if len(results) == 1: \n",
    "        return results[0]\n",
    "    else: \n",
    "        return results\n",
    "\n",
    "# translates a FB message time into a dateTime object\n",
    "def getTime(string_time):\n",
    "    # print string_time\n",
    "    return datetime.fromtimestamp(time.mktime(time.strptime(string_time[:-3], \"%A, %B %d, %Y at %I:%M%p \")))\n",
    "\n",
    "# returns the difference in mins between two string times \n",
    "def minutes_difference(time1, time2):\n",
    "    return (getTime(time1) - getTime(time2)).seconds / 60.0"
   ]
  },
  {
   "cell_type": "code",
   "execution_count": 79,
   "metadata": {
    "collapsed": true
   },
   "outputs": [],
   "source": [
    "chats = []\n",
    "\n",
    "for i in range(NUMBER_TO_ANALYZE):\n",
    "    tree = etree.parse(DIRECTORY + str(i) + '.html',parser=parser)\n",
    "    root = tree.getroot()\n",
    "    body = root.find('body')\n",
    "    divs = body.findall('div')\n",
    "    results = []\n",
    "    for div in divs:\n",
    "        if 'class' in div.attrib and div.attrib['class'] == 'thread':\n",
    "            chats.append(div)"
   ]
  },
  {
   "cell_type": "markdown",
   "metadata": {},
   "source": [
    "## Extracting Data"
   ]
  },
  {
   "cell_type": "code",
   "execution_count": 80,
   "metadata": {},
   "outputs": [],
   "source": [
    "# counter to enumerate all chats\n",
    "index = 0\n",
    "all_names = []\n",
    "\n",
    "# main function\n",
    "def getChatInfo(content, threshold, up_limit = 5 * 365, low_limit = 0):\n",
    "    global index\n",
    "   \n",
    "    previous_user = ''\n",
    "    cur_user = ''\n",
    "    names =  []\n",
    "    \n",
    "    times = {}\n",
    "    previous_time = None \n",
    "    first = True \n",
    "    starts = Counter()\n",
    "    char_counts = {}\n",
    "    \n",
    "    skip_message = False\n",
    "\n",
    "    # iterate over elements within contents (they flip between message headers and message contents)\n",
    "    for message in content:\n",
    "        # if the element is a message header (which contains name of person and time)\n",
    "        if message.tag == 'div': \n",
    "\n",
    "            user = message.find('div').find('span').text\n",
    "            cur_user = user\n",
    "            message_time = filter_class(message.find('div'), 'span', 'meta').text\n",
    "            days_since_message = (datetime.now() - getTime(message_time)).days\n",
    "            \n",
    "            if user not in names:\n",
    "                names.append(user)\n",
    "            \n",
    "            # don't look at messages that are super old (or in the future...)\n",
    "            if days_since_message > up_limit or days_since_message < low_limit: \n",
    "                skip_message = True\n",
    "                continue\n",
    "            \n",
    "            # need this to initialize stuff\n",
    "            if first:\n",
    "                first = False\n",
    "                starts[user] += 1\n",
    "                previous_time = message_time \n",
    "                previous_user = user\n",
    "                continue\n",
    "            # someone responded!\n",
    "            elif previous_user != user:         \n",
    "                diff = minutes_difference(previous_time, message_time)\n",
    "                previous_time = message_time\n",
    "                # probably continuing the conversation\n",
    "                if diff < threshold:\n",
    "                    if user in times: \n",
    "                        times[user].append(diff)\n",
    "                    else: \n",
    "                        times[user] = [diff]\n",
    "                # we'll assume someone initiated a new conversation here otherwise (emphasis on assume)\n",
    "                else:\n",
    "                    starts[user] += 1\n",
    "                previous_user = user\n",
    "        # if the element is the message content, calculate character counts\n",
    "        elif not skip_message and message.tag == 'p' and cur_user != None:\n",
    "            if message.text == None:\n",
    "                continue\n",
    "            \n",
    "            msg_len = len(message.text)\n",
    "            if cur_user in char_counts:\n",
    "                char_counts[cur_user].append(msg_len)\n",
    "            else:\n",
    "                char_counts[cur_user] = [msg_len]\n",
    "            \n",
    "        skip_message = False\n",
    "    \n",
    "    no_name = False\n",
    "    \n",
    "    for name in names:\n",
    "        if name == None:\n",
    "            no_name = True\n",
    "           \n",
    "    if not no_name:\n",
    "        print (\"%3s\" % str(index)) + ' - ' + str(len(content)/2) + ' messages - ' + ', '.join(names)\n",
    "    \n",
    "    index += 1\n",
    "    all_names.append(names)\n",
    "    \n",
    "    return times, starts, char_counts\n",
    "\n",
    "# calculates the total character count and average response time \n",
    "def modify_dicts(t, s, c):  \n",
    "    for item in t:\n",
    "        t[item] = np.mean(np.array(t[item]))\n",
    "    for item in c:\n",
    "        c[item] = np.mean(np.array(c[item]))\n",
    "    return t,s,c"
   ]
  },
  {
   "cell_type": "code",
   "execution_count": 81,
   "metadata": {
    "collapsed": true
   },
   "outputs": [],
   "source": [
    "# wraps together getChatInfo and modify_dicts\n",
    "\n",
    "# change the 180 below to modify the upper bound on a message response time for initiating conversation\n",
    "def compile_stats(chat_num, up_limit = 5*365, low_limit = 0):\n",
    "    t, s, c = getChatInfo(chats[chat_num], 180, up_limit = up_limit, low_limit = low_limit)\n",
    "    return modify_dicts(t,s,c)"
   ]
  },
  {
   "cell_type": "markdown",
   "metadata": {},
   "source": [
    "### Here is your Chat Number Legend:"
   ]
  },
  {
   "cell_type": "code",
   "execution_count": 82,
   "metadata": {
    "scrolled": true
   },
   "outputs": [
    {
     "name": "stdout",
     "output_type": "stream",
     "text": [
      "Use this to find the chat number: \n",
      "  0 - 2 messages - Benet Mclean\n",
      "  1 - 3 messages - Alda Hilsinger\n",
      "  2 - 1 messages - Henderson Will\n",
      "  3 - 1 messages - Anonimo Misterioso\n",
      "  4 - 2 messages - Andy Liu\n",
      "  5 - 1 messages - Tim Sims\n",
      "  6 - 2 messages - Christopher Johnny\n",
      "  7 - 1 messages - Willis Christina Tant\n",
      "  9 - 1 messages - Rat Atoskr\n",
      " 10 - 415 messages - Salonee Goel, Zenith Chan, Jeffrey Ding He, Ian Acker, Mats Najberg, Freddy Marsh, Eesha Parasnis, Natasha Chyi, Elliott Sun, Elisabeth Slighton, Allen Li\n",
      " 11 - 122 messages - Amanda Liang, Christopher Shim, Jacinta YC, Jeffrey Ding He, Elisabeth Slighton, James Drake, Yashvardhan Mehra Bardoloi\n",
      " 12 - 29 messages - Yashvardhan Mehra Bardoloi, Varshika Kanthadai, Jeffrey Ding He\n",
      " 13 - 215 messages - Charlotte Chui, Jeffrey Ding He, Heather Wong, Zoe Chan\n",
      " 14 - 4 messages - Jeffrey Ding He, Natasha Chong, Anant Majumdar\n",
      " 15 - 26 messages - Natasha Chong, Jeffrey Ding He, Elizabeth Wang\n",
      " 16 - 34 messages - Anant Majumdar, Stephen Marzo, Yamini Jena, Jeffrey Ding He, Christopher Wellins, Will Duanmu, Kenneth Zheng\n",
      " 17 - 70 messages - Jeffrey Ding He, Andrew Kao, Lauren Chung\n",
      " 18 - 9 messages - Jeffrey Ding He, Corinna Wong, Jason Lee\n",
      " 19 - 55 messages - Jeffrey Ding He, Changwook Shim, Martin Chan, Matthew Lin, Lauren Chung, Andrew Kao\n",
      " 20 - 331 messages - Ryan Fu, See Wan Park, Jonathan Chung, Zehra Naqvi, Jeffrey Ding He, Maxwell Sheremeta, Yamini Jena, Anant Majumdar, Tora Northman, Kenneth Zheng, Will Duanmu, Forrest Holcombe, Sophia Naqvi, Stephen Marzo, Amar Bhardwaj, Natasha Chong, Christopher Wellins, Jason Park, Charmaine Chan, Tianjiu Zuo\n",
      " 21 - 7 messages - Ashley Huang, Jeffrey Ding He\n",
      " 22 - 73 messages - Jeffrey Ding He, Georgette Koo, Elaine Cheng\n",
      " 23 - 6 messages - Jeffrey Ding He, Georgette Tso, Ivy Tse\n",
      " 24 - 31 messages - Melvin Mel Mel Cheung, Aiyush Mohta, Jeffrey Ding He, William Liu\n",
      " 25 - 166 messages - Jonathan Chung, Natasha Chong, Zehra Naqvi, Jeffrey Ding He, Maxwell Sheremeta, Christopher Shim, Brittany Ng\n",
      " 26 - 192 messages - James Chung, Gracie Chung, Jeffrey Ding He, Aslan Dalgic\n",
      " 27 - 13 messages - Natasha Chong, Jeffrey Ding He\n",
      " 28 - 45 messages - Georgette Koo, Elaine Cheng, Jeffrey Ding He, Charlotte Chui\n",
      " 29 - 52 messages - Jeffrey Ding He, Zoe Chan, Charlotte Chui, Heather Wong\n",
      " 30 - 57 messages - Jeffrey Ding He, Natasha Chyi, Charlotte Chui\n",
      " 31 - 20 messages - Jeffrey Ding He, Rondecca Kam, Changwook Shim\n",
      " 32 - 73 messages - Natasha Chong, Charmaine Chan, Elisabeth Slighton, Jeffrey Ding He\n",
      " 33 - 8 messages - Jeffrey Ding He, Sagar Anne\n",
      " 34 - 38 messages - Lauren Chung, Changwook Shim, Jeffrey Ding He\n",
      " 35 - 18 messages - Aiyush Mohta, Yashvardhan Mehra Bardoloi, Ben Huang\n",
      " 36 - 43 messages - Jeffrey Ding He, Christine Jou, Jonathan Ma\n",
      " 37 - 2 messages - Nicole Chippy, Jeffrey Ding He\n",
      " 38 - 28 messages - Jason Chun Sing Chan, Jeffrey Ding He, Brian Wu, Paddy Yeung\n",
      " 39 - 168 messages - Jeffrey Ding He, Michael Gaba, Alex Zhang, Joshua Hyunho Lee, Wesley Cash, Chloe Lemmel-Hay, Neal Sarkar, Elizabeth Herington, Luccas Borges, Shangda Xu, Tushar Dwivedi, Tristan Craig, Brandon Martinez, Joseph Hasbrouck, Catherine Li, Brendan Falk, Murimi Nyamu, Petra Laura Orešković, Erwin Cai, Vivian Zhou\n",
      " 40 - 114 messages - Jeffrey Ding He, Will Duanmu, Yashvardhan Mehra Bardoloi\n",
      " 41 - 13 messages - Zenith Chan, Charlotte Chui, Jeffrey Ding He\n",
      " 42 - 5 messages - Jiou Choi, Jeffrey Ding He, Karen Kazzikstan Chan\n",
      " 43 - 4571 messages - Will Duanmu, Jeffrey Ding He, Elisabeth Slighton\n",
      " 44 - 6 messages - Aidan Marzo, Jeffrey Ding He\n",
      " 45 - 171 messages - Tawanda Hermes Mulalu, Elias Tuomaala, Zoe Hughes, Amira Song, Emanuele Gualandri, Pulkit Agarwal, Anthony Kenny, Angela Rangira, Lukas Schwarzmann, Jeffrey Ding He\n",
      " 46 - 38 messages - Ivy Tse, Jeffrey Ding He, Jasmine Lee\n",
      " 47 - 723 messages - Helena Lee, Jeffrey Ding He, Chris Pang, Anant Majumdar\n",
      " 48 - 6 messages - Changwook Shim, Justin Karl Li, Jeffrey Ding He\n",
      " 49 - 152 messages - Jeffrey Ding He, Yi Jun Lim, Charlotte Chui, Natasha Chyi\n",
      " 50 - 124 messages - Mei Chung, Elisabeth Slighton, Jeffrey Ding He, Natasha Chong, Eric Cin, Andrew Kao\n",
      " 51 - 7 messages - Jeffrey Ding He, Brenda Brayko, Charlotte Chui, Charmaine Chan\n",
      " 52 - 22 messages - Wade Lew, Jeffrey Ding He, Anant Majumdar\n",
      " 53 - 19 messages - Jeffrey Ding He, Anya Pandit, Katie Baggaley, Junsung Park\n",
      " 54 - 4 messages - Sabrina Kathrine Chen, Arjun Sachar, Deborah Fan\n",
      " 55 - 39 messages - Natasha Chong, Georgette Koo, Forrest Holcombe, Jeffrey Ding He, Charmaine Chan\n",
      " 56 - 411 messages - Elaine Cheng, Jeffrey Ding He, Wade Lew, Anant Majumdar\n",
      " 57 - 3 messages - Jeffrey Ding He, Mei Chung\n",
      " 58 - 71 messages - Amy Tan, Paul Nebres, Kai Trepka, Nicole Kim, Jessica Huang, Jeffrey Ding He\n",
      " 59 - 15 messages - Sheila Fu, Wade Lew, Rachel Chiu, Jeffrey Ding He\n",
      " 60 - 109 messages - Vedika Vishweshwar, Yashvardhan Mehra Bardoloi, Jeffrey Ding He\n",
      " 61 - 59 messages - Anant Majumdar, Wade Lew, Jeffrey Ding He\n",
      " 62 - 3 messages - Elizabeth Wang, Anant Majumdar\n",
      " 63 - 75 messages - Nicole Chippy, Alice Lew, Matt Cheung, Bernard Jiang, Russell Slighton, Jessica Chan, Jeffrey Ding He, Sheldon To, Anthony Law, Pak Ho, Andrew Kao, Crystal Chan\n",
      " 64 - 1 messages - Jeffrey Ding He\n",
      " 65 - 47 messages - Jeffrey Ding He, Lauren Chung\n",
      " 66 - 5 messages - Daniel Zhang, Jeffrey Ding He\n",
      " 67 - 2330 messages - Jeffrey Ding He, Michael Vuylsteke, Alex Shaw, Changwook Shim, Merton Ngan, TeaKay Tae Q Kim, Jeremy Proz, Tommy Cheong, Leonard So, Christopher Shim, Brandon Lin\n",
      " 68 - 26 messages - Jeffrey Ding He\n",
      " 69 - 1 messages - Jeffrey Ding He\n",
      " 70 - 1 messages - Jeffrey Ding He\n",
      " 71 - 362 messages - Chris Pang, Wade Lew, Helena Lee, Anant Majumdar, Jeffrey Ding He, Elaine Cheng\n",
      " 72 - 64 messages - Jeffrey Ding He, Yashvardhan Mehra Bardoloi, WenBo Zhao, Karmen Lau, Andrew Kao\n",
      " 73 - 18 messages - Mei Chung, Jeffrey Ding He, Anant Majumdar, Yashvardhan Mehra Bardoloi\n",
      " 74 - 21 messages - Forrest Holcombe, Yashvardhan Mehra Bardoloi, Will Duanmu, Serena Nanji, Ben Huang, Jordan Marzo, Charmaine Chan, Christopher Wellins, Myka Umali, Tora Northman, Zehra Naqvi, Natasha Chong, Jeffrey Ding He\n",
      " 75 - 6 messages - Aiyush Mohta, Yashvardhan Mehra Bardoloi\n",
      " 76 - 339 messages - Mei Chung, Lauren Chung, Changwook Shim, Christopher Lau, Joshua Levy, Andrew Kao, Charlotte Chui, Martin Chan, Manfred Shek, Matthew Lin, Jeffrey Ding He\n",
      " 77 - 89 messages - Zoe Chan, Jeffrey Ding He, Charlotte Chui, Elena Komiya, Heather Wong\n",
      " 78 - 13 messages - Jeffrey Ding He, Natasha Chyi\n",
      " 79 - 191 messages - Serena Nanji, Jeffrey Ding He, Yamini Jena, Ben Huang\n",
      " 80 - 9 messages - Jeffrey Ding He, Rachel Chiu, Ryan Fu\n",
      " 81 - 2 messages - Justin Shih\n",
      " 82 - 3 messages - Jeffrey Ding He\n",
      " 83 - 6 messages - Jeffrey Ding He, Ben Huang\n",
      " 84 - 39 messages - Andrew Kao, Jeffrey Ding He, Charlotte Chui\n",
      " 85 - 125 messages - Changwook Shim, See Wan Park, Lauren Chung, Jeffrey Ding He\n",
      " 86 - 13 messages - Jeffrey Ding He, Stanley Liao\n",
      " 87 - 12 messages - Jeffrey Ding He\n",
      " 88 - 115 messages - Kai Trepka, Amira Song, Amy Tan, Raymond Wang, Paul Nebres, Christine Jou, Jeffrey Ding He\n",
      " 89 - 2 messages - Arnesh Batlaw\n",
      " 90 - 13 messages - Yashvardhan Mehra Bardoloi, Jeffrey Ding He, Ben Huang\n",
      " 91 - 6 messages - Jeffrey Ding He\n",
      " 92 - 2819 messages - Mei Chung, Jeffrey Ding He, Charlotte Chui\n",
      " 93 - 22 messages - Nicky Yang, Elizabeth Wang, Jeffrey Ding He, Jesse Lau, Karmen Lau\n",
      " 94 - 188 messages - Eric Cin, Jeffrey Ding He, See Wan Park, Ryan Fu, Megan Diehl\n",
      " 95 - 15 messages - Maggie DeLessio, Jeffrey Ding He\n",
      " 96 - 2 messages - Yashvardhan Mehra Bardoloi, Jeffrey Ding He\n",
      " 97 - 9 messages - Brittany Fried\n",
      " 98 - 7 messages - Maggie DeLessio, Tora Northman, Zehra Naqvi, Jeffrey Ding He\n",
      " 99 - 5 messages - Deborah Fan, Jeffrey Ding He\n"
     ]
    }
   ],
   "source": [
    "t_global = []\n",
    "s_global = []\n",
    "c_global = []\n",
    "\n",
    "print \"Use this to find the chat number: \"\n",
    "\n",
    "for i in range(len(chats)):\n",
    "    t,s,c = compile_stats(i)\n",
    "    t_global.append(t)\n",
    "    s_global.append(s)\n",
    "    c_global.append(c)"
   ]
  },
  {
   "cell_type": "markdown",
   "metadata": {},
   "source": [
    "## Feature 1: Making Plots"
   ]
  },
  {
   "cell_type": "code",
   "execution_count": 83,
   "metadata": {
    "collapsed": true
   },
   "outputs": [],
   "source": [
    "# Makes 3 plots (1) average response time, (2) initiated conversations, (3) character count\n",
    "def plot(chat_number):\n",
    "    t_data = t_global[chat_number]\n",
    "    X = np.arange(len(t_data))\n",
    "    pl.bar(X, np.array(t_data.values()), align='center', width=0.5, color = 'r')\n",
    "    pl.xticks(X, t_data.keys(), rotation = 90)\n",
    "    pl.title('Average Response Time in Minutes')\n",
    "    pl.show()\n",
    "\n",
    "    s_data = s_global[chat_number]\n",
    "    X = np.arange(len(s_data))\n",
    "    pl.bar(X, np.array(s_data.values()), align='center', width=0.5, color = 'r')\n",
    "    pl.xticks(X, s_data.keys(), rotation = 90)\n",
    "    pl.title('Times Initiated Conversation')\n",
    "    pl.show()\n",
    "    \n",
    "    c_data = c_global[chat_number]\n",
    "    X = np.arange(len(c_data))\n",
    "    pl.bar(X, np.array(c_data.values()), align='center', width=0.5, color = 'r')\n",
    "    pl.xticks(X, c_data.keys(), rotation = 90)\n",
    "    pl.title('Average Message Character Count')\n",
    "    pl.show()"
   ]
  },
  {
   "cell_type": "markdown",
   "metadata": {},
   "source": [
    "### Call the function plot(chat_number) here:"
   ]
  },
  {
   "cell_type": "code",
   "execution_count": 84,
   "metadata": {
    "scrolled": false
   },
   "outputs": [
    {
     "data": {
      "image/png": "[encoded data removed]",
      "text/plain": [
       "<matplotlib.figure.Figure at 0x113bd19d0>"
      ]
     },
     "metadata": {},
     "output_type": "display_data"
    },
    {
     "data": {
      "image/png": "[encoded data removed]",
      "text/plain": [
       "<matplotlib.figure.Figure at 0x113b229d0>"
      ]
     },
     "metadata": {},
     "output_type": "display_data"
    },
    {
     "data": {
      "image/png": "[encoded data removed]",
      "text/plain": [
       "<matplotlib.figure.Figure at 0x11718fbd0>"
      ]
     },
     "metadata": {},
     "output_type": "display_data"
    }
   ],
   "source": [
    "plot(10)"
   ]
  },
  {
   "cell_type": "code",
   "execution_count": null,
   "metadata": {
    "collapsed": true
   },
   "outputs": [],
   "source": []
  }
 ],
 "metadata": {
  "anaconda-cloud": {},
  "kernelspec": {
   "display_name": "Python 2",
   "language": "python",
   "name": "python2"
  },
  "language_info": {
   "codemirror_mode": {
    "name": "ipython",
    "version": 2
   },
   "file_extension": ".py",
   "mimetype": "text/x-python",
   "name": "python",
   "nbconvert_exporter": "python",
   "pygments_lexer": "ipython2",
   "version": "2.7.13"
  }
 },
 "nbformat": 4,
 "nbformat_minor": 1
}
